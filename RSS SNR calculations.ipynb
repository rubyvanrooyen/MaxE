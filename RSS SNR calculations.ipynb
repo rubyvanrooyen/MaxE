{
 "cells": [
  {
   "cell_type": "code",
   "execution_count": 255,
   "metadata": {
    "collapsed": true
   },
   "outputs": [],
   "source": [
    "from astropy import units as u\n",
    "import numpy as np"
   ]
  },
  {
   "cell_type": "markdown",
   "metadata": {},
   "source": [
    "# Instrument parameters"
   ]
  },
  {
   "cell_type": "markdown",
   "metadata": {},
   "source": [
    "### Spectograph design"
   ]
  },
  {
   "cell_type": "code",
   "execution_count": 256,
   "metadata": {
    "collapsed": true
   },
   "outputs": [],
   "source": [
    "# telescope focal length\n",
    "f_tel =  46200 * u.mm\n",
    "# collimator focal length\n",
    "f_col =  630 * u.mm\n",
    "# spectrograph camera focal length\n",
    "f_cam = 330 * u.mm"
   ]
  },
  {
   "cell_type": "markdown",
   "metadata": {},
   "source": [
    "### Grating design"
   ]
  },
  {
   "cell_type": "code",
   "execution_count": 257,
   "metadata": {
    "collapsed": false
   },
   "outputs": [
    {
     "name": "stdout",
     "output_type": "stream",
     "text": [
      "Groove spacing of 0.00111 mm using spectral order 1.0\n"
     ]
    }
   ],
   "source": [
    "# incident grating angle\n",
    "alpha = np.radians(12.5) * u.radian  # input in degrees\n",
    "# groove frequency (mm-1)\n",
    "vg = 900 / u.mm\n",
    "# groove separation (mm)\n",
    "d = 1./vg\n",
    "# spectral order\n",
    "m = 1.\n",
    "print('Groove spacing of {:.3} using spectral order {}'.format(d, m))"
   ]
  },
  {
   "cell_type": "markdown",
   "metadata": {},
   "source": [
    "### Detector"
   ]
  },
  {
   "cell_type": "code",
   "execution_count": 258,
   "metadata": {
    "collapsed": true
   },
   "outputs": [],
   "source": [
    "# size of a CCD pixel\n",
    "px = 15. * u.micrometer\n",
    "py = 15. * u.micrometer\n",
    "# binning of CCD pixels\n",
    "bx = 2.\n",
    "by = 2."
   ]
  },
  {
   "cell_type": "markdown",
   "metadata": {},
   "source": [
    "# Observational conditions"
   ]
  },
  {
   "cell_type": "code",
   "execution_count": 259,
   "metadata": {
    "collapsed": false
   },
   "outputs": [
    {
     "name": "stdout",
     "output_type": "stream",
     "text": [
      "Slid width 1.5 arcsec\n"
     ]
    }
   ],
   "source": [
    "# nominal slit width (arcseconds)\n",
    "phi_s = 1.5 * u.arcsec\n",
    "print('Slid width {:.3}'.format(phi_s))"
   ]
  },
  {
   "cell_type": "markdown",
   "metadata": {},
   "source": [
    "# SALT FWHM\n",
    "And the PSF in the cross-dispersion direction $ =  \\frac{FWHM \\cdot M}{S_f} = \\frac{FWHM}{S_d}$\n",
    "\n",
    "SALT is a fixed azimuth mount telescope and the seeing at zenith has to be degraded by the airmass contribution at $37^\\circ$ away from zenith    \n",
    "$FWHM_{z=37} = FWHM_{z=0}\\sec^{0.6}(37^\\circ)$\n",
    "\n",
    "Spot size at focal plane assuming a telescope imaging budget of $0.6''$    \n",
    "$FWHM_{rms} = \\sqrt{FWHM^2 + 0.6^2}$"
   ]
  },
  {
   "cell_type": "code",
   "execution_count": 260,
   "metadata": {
    "collapsed": false
   },
   "outputs": [
    {
     "name": "stdout",
     "output_type": "stream",
     "text": [
      "Spot size at focal plane 1.26 arcsec\n"
     ]
    }
   ],
   "source": [
    "# full width at half maximum @ zenith in Sutherland\n",
    "fwhm_0 = 1.2 * u.arcsec\n",
    "# scale FWHM from zenith the fixed azimuth 37 deg away from zenith\n",
    "z_rad = np.radians(37)  # azimuth offset angle input in degrees\n",
    "# airmass correction\n",
    "sec = lambda z: np.arccos(z)\n",
    "airmass = sec(z_rad)**0.6\n",
    "fwhm = fwhm_0 * airmass\n",
    "# assume a 0.6'' imaging error budget\n",
    "err = 0.6 * u.arcsec\n",
    "# spot size at focal plane\n",
    "fwhm = np.sqrt((fwhm*fwhm).value + (err*err).value) * u.arcsec\n",
    "print('Spot size at focal plane {:.3}'.format(fwhm))"
   ]
  },
  {
   "cell_type": "markdown",
   "metadata": {},
   "source": [
    "# Input signals"
   ]
  },
  {
   "cell_type": "markdown",
   "metadata": {},
   "source": [
    "Assume a continuum object signal of R=21.4 mag, plus sky contribution of R=20.9 mag    \n",
    "Calculating sky input flux using Vega standards    \n",
    "$F_* = F_{vega} \\times 10^{-0.4m_*}$"
   ]
  },
  {
   "cell_type": "code",
   "execution_count": 261,
   "metadata": {
    "collapsed": true
   },
   "outputs": [],
   "source": [
    "def mag2flux(magnitude):\n",
    "    # convert magnitude to photon flux\n",
    "    std_flux = 702.0  # erg/s/cm^2/A\n",
    "\n",
    "    # Star flux relative to Vega\n",
    "    flux = std_flux * (10.**(-magnitude/2.5))  # ph/s/cm^2/A\n",
    "    #print('Input flux F_lambda = {:.3} erg/s/cm^2/A'.format(flux))\n",
    "    \n",
    "    # Collection area of SALT mirror\n",
    "    area = lambda radius: np.pi*(radius**2)\n",
    "    mirror = area(1000/2) - area(400/2)  # cm^2\n",
    "    print('SALT mirror area = {:.3} cm^2'.format(mirror))\n",
    "    \n",
    "    # Incident photons per second on primary\n",
    "    flux *= mirror # ph/s/A (theoretical)\n",
    "    return flux"
   ]
  },
  {
   "cell_type": "code",
   "execution_count": 262,
   "metadata": {
    "collapsed": false
   },
   "outputs": [
    {
     "name": "stdout",
     "output_type": "stream",
     "text": [
      "SALT mirror area = 6.6e+05 cm^2\n",
      "Counts per second on primary = 1.2756 erg/s/A\n"
     ]
    }
   ],
   "source": [
    "target_flux = mag2flux(21.4)\n",
    "print('Counts per second on primary = {:.5} erg/s/A'.format(target_flux))"
   ]
  },
  {
   "cell_type": "markdown",
   "metadata": {},
   "source": [
    "With the solid angle of the point spread function    \n",
    "$\\Omega = \\pi \\cdot FWHM^2 / 4$ arcsec$^2$\n",
    "\n",
    "The diffuse input spectrum is converted from flux per square arcsecond to flux    \n",
    "$F_\\lambda = \\Omega F_{\\lambda\\Omega}$"
   ]
  },
  {
   "cell_type": "code",
   "execution_count": 263,
   "metadata": {
    "collapsed": false
   },
   "outputs": [
    {
     "name": "stdout",
     "output_type": "stream",
     "text": [
      "SALT mirror area = 6.6e+05 cm^2\n",
      "Counts per second on primary = 2.02 erg/s/A/arcsec^2\n",
      "Solid angle of the point spread function 1.24 arcsec2\n",
      "Sky contribution = 2.5029 erg/s/A\n"
     ]
    }
   ],
   "source": [
    "sky_flux = mag2flux(20.9)\n",
    "print('Counts per second on primary = {:.3} erg/s/A/arcsec^2'.format(sky_flux))\n",
    "\n",
    "psf = np.pi * (fwhm / 2.)**2\n",
    "print('Solid angle of the point spread function {:.3}'.format(psf))\n",
    "\n",
    "# diffuse input\n",
    "sky_flux = psf * (sky_flux / u.arcsec**2)  # ph/s/A\n",
    "print('Sky contribution = {:.5} erg/s/A'.format(sky_flux))"
   ]
  },
  {
   "cell_type": "markdown",
   "metadata": {},
   "source": [
    "Scale of slit at telescope focal plane (in mm)    \n",
    "$S_f = \\frac{180 \\cdot 3600}{\\pi}\\frac{1}{f_{tel}}\\, [\\mbox{''/mm}]$    \n",
    "$f_{tel}$ the telescope focal length"
   ]
  },
  {
   "cell_type": "code",
   "execution_count": 264,
   "metadata": {
    "collapsed": false
   },
   "outputs": [
    {
     "name": "stdout",
     "output_type": "stream",
     "text": [
      "Scale at the focal plane 4.46 arcsec / mm\n"
     ]
    }
   ],
   "source": [
    "c = (180.*3600./np.pi)*u.arcsec\n",
    "Sf = c/f_tel\n",
    "print('Scale at the focal plane {:.3}'.format(Sf))"
   ]
  },
  {
   "cell_type": "markdown",
   "metadata": {},
   "source": [
    "The collimator and camera reimage the incoming light, such that the image of the slit projected onto the CCD is reduced in size by the magnification factor\n",
    "$M = \\frac{f_{cam}}{f_{col}}$,\n",
    "$f_{col}$ the collimator focal length and\n",
    "$f_{cam}$ the camera focal length\n",
    "\n",
    "Given a scale at the detector of\n",
    "$S_d=S_f/M\\, [\\mbox{''/mm}]$    "
   ]
  },
  {
   "cell_type": "code",
   "execution_count": 265,
   "metadata": {
    "collapsed": false
   },
   "outputs": [
    {
     "name": "stdout",
     "output_type": "stream",
     "text": [
      "Scale at the detector 8.52 arcsec / mm\n"
     ]
    }
   ],
   "source": [
    "Sd = Sf * (f_col/f_cam)\n",
    "print('Scale at the detector {:.3}'.format(Sd))"
   ]
  },
  {
   "cell_type": "code",
   "execution_count": 266,
   "metadata": {
    "collapsed": false
   },
   "outputs": [
    {
     "name": "stdout",
     "output_type": "stream",
     "text": [
      "Linear width of the slit at the focal plane 0.336 mm\n"
     ]
    }
   ],
   "source": [
    "phi_mm = phi_s/Sf  # mm\n",
    "print('Linear width of the slit at the focal plane {:.3}'.format(phi_mm))"
   ]
  },
  {
   "cell_type": "markdown",
   "metadata": {},
   "source": [
    "Waveband of a resolution element is determined by the the slit size projected onto the detector in angstroms:    \n",
    "$\\Delta\\lambda_{re} = \\frac{\\phi_s}{S_f} \\times \\frac{\\Lambda\\cos(\\alpha)}{f_{col}}\\, [\\mbox{A}]$    \n",
    "$\\phi_s$ the slit width in arcseconds, $\\alpha$ the incident grading angle and $\\Lambda$ the distance between grooves in angstroms with $1\\,mm = 10^7\\,A$"
   ]
  },
  {
   "cell_type": "code",
   "execution_count": 267,
   "metadata": {
    "collapsed": false
   },
   "outputs": [
    {
     "name": "stdout",
     "output_type": "stream",
     "text": [
      "Grating period 1.11e+04 Angstrom\n",
      "Width of a resolution element 5.79 Angstrom\n",
      "Total wave range 5.4e+03 Angstrom\n"
     ]
    }
   ],
   "source": [
    "# groove period (A)\n",
    "L = (d/m).to(u.angstrom)  # A for waveband calculations\n",
    "print('Grating period {:.3}'.format(L))\n",
    "\n",
    "# step size is constant over wavelength\n",
    "DLre = phi_mm*(np.cos(alpha)/f_col) * L  # A\n",
    "print('Width of a resolution element {:.3}'.format(DLre))\n",
    "\n",
    "# wave range\n",
    "DL = (900.*u.nm - 360*u.nm).to(u.angstrom)\n",
    "print('Total wave range {:.3}'.format(DL))"
   ]
  },
  {
   "cell_type": "markdown",
   "metadata": {},
   "source": [
    "# Area of the spectral element"
   ]
  },
  {
   "cell_type": "markdown",
   "metadata": {},
   "source": [
    "The photons arriving at the detector is dispersed over the geometrical extent of the resolution element in pixel space.\n",
    "\n",
    "Width of the resolution element = $\\frac{dx}{d\\lambda} \\Delta \\lambda_{re}\\, [\\mbox{mm}]$    \n",
    "where the linear dispersion $\\frac{dx}{d\\lambda} = f_{cam}\\frac{d\\beta}{d\\lambda} = \\frac{f_{cam}}{\\Lambda \\cos(\\beta)}\\, [\\mbox{mm/A}]$    \n",
    "with $\\beta = \\arcsin(\\sin(\\alpha) - \\frac{\\lambda}{\\Lambda}) \\, [\\mbox{rad}]$ the diffraction angle."
   ]
  },
  {
   "cell_type": "code",
   "execution_count": 268,
   "metadata": {
    "collapsed": true
   },
   "outputs": [],
   "source": [
    "# l -- wavelenght [nm]\n",
    "# a -- grading indicent angle [rad]\n",
    "# p -- grading period [A]\n",
    "beta = lambda l, a, p: np.arcsin(l/p.to(u.nm) - np.sin(a))"
   ]
  },
  {
   "cell_type": "code",
   "execution_count": 269,
   "metadata": {
    "collapsed": false
   },
   "outputs": [
    {
     "name": "stdout",
     "output_type": "stream",
     "text": [
      "Angular dispersion 9.05e-05 1 / Angstrom\n",
      "Linear dispersion 0.0299 mm / Angstrom\n",
      "Area of resolution element 0.173 mm\n"
     ]
    }
   ],
   "source": [
    "# grating diffraction angle [rad]\n",
    "diff_ang = beta(360. * u.nm, alpha, L)  # wavelength input [nm]\n",
    "# angular dispersion [rad/A]\n",
    "dbdl = 1. / (L * np.cos(diff_ang))\n",
    "print('Angular dispersion {:.3}'.format(dbdl))\n",
    "# linear dispersion [mm/A]\n",
    "dxdl = f_cam * dbdl\n",
    "print('Linear dispersion {:.3}'.format(dxdl))\n",
    "# width of the resolution element\n",
    "wre = dxdl*DLre\n",
    "print('Area of resolution element {:.3}'.format(wre))"
   ]
  },
  {
   "cell_type": "markdown",
   "metadata": {},
   "source": [
    "The area of the resolution element is the width of the resolution element in the dispersion direction multiplied by the width of the PSF in the cross-dispersion direction    \n",
    "$A_{re} = \\frac{dx}{d\\lambda} \\Delta \\lambda_{re} \\times \\frac{FWHM}{S_d}\\, [\\mbox{mm}^2]$ "
   ]
  },
  {
   "cell_type": "code",
   "execution_count": 270,
   "metadata": {
    "collapsed": false
   },
   "outputs": [
    {
     "name": "stdout",
     "output_type": "stream",
     "text": [
      "Projected area of resolution element 0.0255 mm2\n"
     ]
    }
   ],
   "source": [
    "Are = wre*fwhm/Sd\n",
    "print('Projected area of resolution element {:.3}'.format(Are))"
   ]
  },
  {
   "cell_type": "markdown",
   "metadata": {},
   "source": [
    "# Area of a binned pixel\n",
    "\n",
    "Area of a binned pixel $A_b = A_pB_xB_y$ [mm$^2$]    \n",
    "$A_p$ the area of a CCD pixel, $B_x$ and $B_y$ the $x$ and $y$ binning factors"
   ]
  },
  {
   "cell_type": "code",
   "execution_count": 271,
   "metadata": {
    "collapsed": false
   },
   "outputs": [
    {
     "name": "stdout",
     "output_type": "stream",
     "text": [
      "Area of a CCD pixel 0.000225 mm2\n",
      "Area of a binned pixel 0.0009 mm2\n"
     ]
    }
   ],
   "source": [
    "Ap = (px.to(u.mm))*(py.to(u.mm))  # mm^2\n",
    "print('Area of a CCD pixel {}'.format(Ap))\n",
    "\n",
    "Ab = Ap * bx * by\n",
    "print('Area of a binned pixel {}'.format(Ab))"
   ]
  },
  {
   "cell_type": "code",
   "execution_count": 272,
   "metadata": {
    "collapsed": false
   },
   "outputs": [
    {
     "name": "stdout",
     "output_type": "stream",
     "text": [
      "Binning scale factor 0.0354\n"
     ]
    }
   ],
   "source": [
    "# binning scale factor\n",
    "c = Ab / Are\n",
    "print('Binning scale factor {:.3}'.format(c))"
   ]
  },
  {
   "cell_type": "markdown",
   "metadata": {},
   "source": [
    "# SNR calculation"
   ]
  },
  {
   "cell_type": "markdown",
   "metadata": {},
   "source": [
    "Integrate incoming spectra over resolution element at the focal plane to get incoming count rate, preserving some wavelength dependence at the focal plane"
   ]
  },
  {
   "cell_type": "code",
   "execution_count": 273,
   "metadata": {
    "collapsed": true
   },
   "outputs": [],
   "source": [
    "N_lambda = target_flux / (u.angstrom) / (u.second)  # counts/s/A\n",
    "Ns_lambda = sky_flux / (u.angstrom) / (u.second)  # counts/s/A"
   ]
  },
  {
   "cell_type": "markdown",
   "metadata": {},
   "source": [
    "Integrated counts    \n",
    "$N_{re} = \\sum\\limits_{\\Delta\\lambda_{re}} N_\\lambda d\\lambda$ [counts/s/re]"
   ]
  },
  {
   "cell_type": "code",
   "execution_count": 274,
   "metadata": {
    "collapsed": false
   },
   "outputs": [
    {
     "name": "stdout",
     "output_type": "stream",
     "text": [
      "Integrated spectra over resoluton element 7.38 [counts/s/re]\n",
      "Sky contribution over resolution element 14.5 [counts/s/re]\n"
     ]
    }
   ],
   "source": [
    "N_target = N_lambda * DLre  # counts/s/re\n",
    "print('Integrated spectra over resoluton element {:.3} [counts/s/re]'.format(N_target.value))\n",
    "N_sky = Ns_lambda * DLre  # counts/s/re\n",
    "print('Sky contribution over resolution element {:.3} [counts/s/re]'.format(N_sky.value))"
   ]
  },
  {
   "cell_type": "markdown",
   "metadata": {},
   "source": [
    "Counts per bin    \n",
    "$N'_{re} = N_{re}\\frac{A_b}{A_{re}}$ [counts/s/bin]"
   ]
  },
  {
   "cell_type": "code",
   "execution_count": 275,
   "metadata": {
    "collapsed": false
   },
   "outputs": [
    {
     "name": "stdout",
     "output_type": "stream",
     "text": [
      "Counts per bin signal 0.261 [counts/s/bin], sky 0.512 [counts/s/bin]\n",
      "Total signal in counts per second per bin 0.773 [counts/s/bin]\n"
     ]
    }
   ],
   "source": [
    "N_target *= c  # counts/s/bin\n",
    "N_sky *= c  # counts/s/bin\n",
    "print('Counts per bin signal {:.3} [counts/s/bin], sky {:.3} [counts/s/bin]'.format(N_target.value, N_sky.value))\n",
    "N_total = N_target + N_sky\n",
    "print('Total signal in counts per second per bin {:.3} [counts/s/bin]'.format(N_total.value))"
   ]
  },
  {
   "cell_type": "markdown",
   "metadata": {},
   "source": [
    "## Noise contribution"
   ]
  },
  {
   "cell_type": "markdown",
   "metadata": {},
   "source": [
    "Net exposure time    \n",
    "$T_e = T - n_r T_r$ [s]    \n",
    "the time spend counting photons are reduced by the time it takes to read out the CCD"
   ]
  },
  {
   "cell_type": "code",
   "execution_count": 276,
   "metadata": {
    "collapsed": false
   },
   "outputs": [
    {
     "name": "stdout",
     "output_type": "stream",
     "text": [
      "Net exposure time 1796.0 s\n"
     ]
    }
   ],
   "source": [
    "# total time on target\n",
    "T = 1800 * u.second\n",
    "# number of readout\n",
    "nr = 1\n",
    "# time per readout\n",
    "ts = 4 * u.second\n",
    "# readout noise in counts per readout bin\n",
    "sr = 6\n",
    "\n",
    "# net exposure time\n",
    "Te = T - nr*ts\n",
    "print('Net exposure time {}'.format(Te))"
   ]
  },
  {
   "cell_type": "markdown",
   "metadata": {},
   "source": [
    "Noise per bin comes from three main sources: object, sky and readout\n",
    "\n",
    "Noise for each signal component    \n",
    "$\\sigma = \\sqrt{NT}\\ $ [counts], with $N$ number of counts per bin and $T$ exposure time"
   ]
  },
  {
   "cell_type": "code",
   "execution_count": 277,
   "metadata": {
    "collapsed": false
   },
   "outputs": [
    {
     "name": "stdout",
     "output_type": "stream",
     "text": [
      "Noise contributions for object 21.6 and sky 30.3 [counts]\n"
     ]
    }
   ],
   "source": [
    "E_target = np.sqrt(N_target * Te)  # counts\n",
    "E_sky = np.sqrt(N_sky * Te)  # counts\n",
    "print('Noise contributions for object {:.3} and sky {:.3} [counts]'.format(E_target, E_sky))"
   ]
  },
  {
   "cell_type": "markdown",
   "metadata": {},
   "source": [
    "Readout noise: $n_r\\sigma_r^2$"
   ]
  },
  {
   "cell_type": "code",
   "execution_count": 278,
   "metadata": {
    "collapsed": false
   },
   "outputs": [
    {
     "name": "stdout",
     "output_type": "stream",
     "text": [
      "Readout noise contribution 36 [counts^2]\n"
     ]
    }
   ],
   "source": [
    "E_readout = nr * sr**2\n",
    "print('Readout noise contribution {} [counts^2]'.format(E_readout))"
   ]
  },
  {
   "cell_type": "markdown",
   "metadata": {},
   "source": [
    "Total noise per bin    \n",
    "$\\sigma^2 = \\sigma^2_o + \\sigma^2_s + n_r\\sigma_r^2 = NT_e + n_r\\sigma_r^2$"
   ]
  },
  {
   "cell_type": "code",
   "execution_count": 279,
   "metadata": {
    "collapsed": false
   },
   "outputs": [
    {
     "name": "stdout",
     "output_type": "stream",
     "text": [
      "Sensitivity = 4.69e+02/37.7 = 12.4\n"
     ]
    }
   ],
   "source": [
    "signal = N_target * Te\n",
    "noise = np.sqrt(N_total * Te + E_readout)\n",
    "snr = signal/noise\n",
    "print('Sensitivity = {:.3}/{:.3} = {:.3}'.format(signal, noise, snr))"
   ]
  },
  {
   "cell_type": "code",
   "execution_count": null,
   "metadata": {
    "collapsed": true
   },
   "outputs": [],
   "source": []
  }
 ],
 "metadata": {
  "kernelspec": {
   "display_name": "Python 3",
   "language": "python",
   "name": "python3"
  },
  "language_info": {
   "codemirror_mode": {
    "name": "ipython",
    "version": 3
   },
   "file_extension": ".py",
   "mimetype": "text/x-python",
   "name": "python",
   "nbconvert_exporter": "python",
   "pygments_lexer": "ipython3",
   "version": "3.5.2"
  }
 },
 "nbformat": 4,
 "nbformat_minor": 2
}
